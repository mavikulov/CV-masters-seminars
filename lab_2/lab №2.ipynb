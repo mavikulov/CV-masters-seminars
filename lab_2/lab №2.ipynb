{
 "cells": [
  {
   "cell_type": "markdown",
   "id": "e2402bdf-bc87-4001-8e7c-146dddeb9ee4",
   "metadata": {},
   "source": [
    "# **Лабораторная работа №2.**"
   ]
  },
  {
   "cell_type": "markdown",
   "id": "437561ca-9db6-423e-8695-9cd665f5a8aa",
   "metadata": {},
   "source": [
    "## Задание"
   ]
  },
  {
   "cell_type": "markdown",
   "id": "4a8b0d3e-ace6-41c6-8327-172fb4b71039",
   "metadata": {},
   "source": [
    "Реализовать операцию свертки поэлементную и с использованием алгоритма ```Im2Col```"
   ]
  },
  {
   "cell_type": "markdown",
   "id": "682284bd-b6e5-4e1f-9f41-3ec96528b4e8",
   "metadata": {},
   "source": [
    "##### Выполнил: Викулов Максим"
   ]
  },
  {
   "cell_type": "code",
   "execution_count": 13,
   "id": "5a8440fd-9cbe-4c97-a184-c4525be8c43f",
   "metadata": {},
   "outputs": [],
   "source": [
    "import numpy as np\n",
    "import time\n",
    "import matplotlib.pyplot as plt\n",
    "import torch\n",
    "import torch.nn.functional as F"
   ]
  },
  {
   "cell_type": "markdown",
   "id": "b0f1ed5e-c15c-45a9-87db-1bccdc94a849",
   "metadata": {},
   "source": [
    "### 1. Реализация поэлементной свертки"
   ]
  },
  {
   "cell_type": "code",
   "execution_count": 14,
   "id": "b03b348f-b825-4988-b638-6fbdb71cea8f",
   "metadata": {},
   "outputs": [],
   "source": [
    "def numpy_conv2d(input_, kernel, padding=0, stride=1):\n",
    "    if input_.ndim == 2:\n",
    "        input_ = np.expand_dims(input_, axis=0)\n",
    "    if kernel.ndim == 2:\n",
    "        kernel = np.expand_dims(np.expand_dims(kernel, axis=0), axis=0)\n",
    "    \n",
    "    C_in, H_in, W_in = input_.shape\n",
    "    C_out, _, KH, KW = kernel.shape\n",
    "    \n",
    "    if padding > 0:\n",
    "        padded = np.zeros((C_in, H_in + 2 * padding, W_in + 2 * padding))\n",
    "        padded[:, padding:-padding, padding:-padding] = input_\n",
    "    else:\n",
    "        padded = input_\n",
    "    \n",
    "    H_out = (H_in + 2 * padding - KH) // stride + 1\n",
    "    W_out = (W_in + 2 * padding - KW) // stride + 1\n",
    "    output = np.zeros((C_out, H_out, W_out))\n",
    "    \n",
    "    for oc in range(C_out):\n",
    "        for ic in range(C_in):\n",
    "            for h in range(H_out):\n",
    "                for w in range(W_out):\n",
    "                    h_start = h * stride\n",
    "                    w_start = w * stride\n",
    "                    output[oc, h, w] += np.sum(\n",
    "                        padded[ic, h_start:h_start + KH, w_start:w_start + KW] * kernel[oc, ic]\n",
    "                    )\n",
    "    \n",
    "    return output.squeeze()"
   ]
  },
  {
   "cell_type": "markdown",
   "id": "72bab710-fa88-42d6-9986-96f033652c67",
   "metadata": {},
   "source": [
    "### 2. Реализация свертки с помощью алгоритма Im2Col"
   ]
  },
  {
   "cell_type": "code",
   "execution_count": 15,
   "id": "3da4d392-30e5-4f21-8244-ba89642c2c34",
   "metadata": {},
   "outputs": [],
   "source": [
    "def Im2Col(input_, kernel, padding=0, stride=1):\n",
    "    if input_.ndim == 2:\n",
    "        input_ = np.expand_dims(input_, axis=0)\n",
    "    \n",
    "    C_in, H_in, W_in = input_.shape\n",
    "    KH, KW = kernel\n",
    "    \n",
    "    if padding > 0:\n",
    "        padded_input = np.zeros((C_in, H_in + 2 * padding, W_in + 2 * padding))\n",
    "        padded_input[:, padding:-padding, padding:-padding] = input_\n",
    "    else:\n",
    "        padded_input = input_\n",
    "    \n",
    "    H_out = (H_in + 2 * padding - KH) // stride + 1\n",
    "    W_out = (W_in + 2 * padding - KW) // stride + 1\n",
    "    col_matrix = np.zeros((C_in * KH * KW, H_out * W_out))\n",
    "    \n",
    "    for h in range(H_out):\n",
    "        for w in range(W_out):\n",
    "            h_start = h * stride\n",
    "            w_start = w * stride\n",
    "            patch = padded_input[:, h_start:h_start + KH, w_start:w_start + KW]\n",
    "            col_matrix[:, h * W_out + w] = patch.ravel()\n",
    "    \n",
    "    return col_matrix\n",
    "\n",
    "\n",
    "def conv2d_im2col(input_, kernel, padding=0, stride=1):\n",
    "    if input_.ndim == 2:\n",
    "        input_ = np.expand_dims(input_, axis=0)\n",
    "    if kernel.ndim == 2:\n",
    "        kernel = np.expand_dims(np.expand_dims(kernel, axis=0), axis=0)\n",
    "    \n",
    "    C_in, H_in, W_in = input_.shape\n",
    "    C_out, in_c_k, KH, KW = kernel.shape\n",
    "    \n",
    "    if C_in != in_c_k:\n",
    "        raise ValueError(f\"Количество каналов во входе ({C_in}) не совпадает с ядром ({in_c_k})\")\n",
    "    \n",
    "    col_matrix = Im2Col(input_, (KH, KW), padding, stride)\n",
    "    kernel_matrix = kernel.reshape(C_out, -1)\n",
    "    out = kernel_matrix @ col_matrix\n",
    "    H_out = (H_in + 2 * padding - KH) // stride + 1\n",
    "    W_out = (W_in + 2 * padding - KW) // stride + 1\n",
    "    \n",
    "    return out.reshape(C_out, H_out, W_out).squeeze()"
   ]
  },
  {
   "cell_type": "code",
   "execution_count": null,
   "id": "f7e8d50c-85a7-4793-a391-feb0fe5f11c1",
   "metadata": {},
   "outputs": [
    {
     "name": "stdout",
     "output_type": "stream",
     "text": [
      "Размер: 16x16 | Numpy: 0.0025s | Im2Col: 0.0004s | Проверка: OK\n",
      "Размер: 28x28 | Numpy: 0.0324s | Im2Col: 0.0009s | Проверка: OK\n",
      "Размер: 32x32 | Numpy: 0.0126s | Im2Col: 0.0012s | Проверка: OK\n",
      "Размер: 50x50 | Numpy: 0.3541s | Im2Col: 0.0035s | Проверка: OK\n",
      "Размер: 64x64 | Numpy: 0.2554s | Im2Col: 0.0057s | Проверка: OK\n",
      "Размер: 64x64 | Numpy: 0.4261s | Im2Col: 0.0065s | Проверка: OK\n",
      "Размер: 100x100 | Numpy: 0.3543s | Im2Col: 0.0130s | Проверка: OK\n",
      "Размер: 128x128 | Numpy: 0.8954s | Im2Col: 0.0229s | Проверка: OK\n"
     ]
    }
   ],
   "source": [
    "def test():\n",
    "    np.random.seed(42)\n",
    "    torch.manual_seed(42)\n",
    "    \n",
    "    sizes = [\n",
    "        (1, 16, 16),\n",
    "        (1, 28, 28),\n",
    "        (1, 32, 32),\n",
    "        (4, 50, 50),\n",
    "        (3, 64, 64),\n",
    "        (3, 64, 64),\n",
    "        (2, 100, 100),\n",
    "        (3, 128, 128),\n",
    "        (3, 256, 256),\n",
    "    ]\n",
    "    \n",
    "    kernels = [\n",
    "        np.random.randn(2, 1, 3, 3),\n",
    "        np.random.randn(10, 1, 5, 5),\n",
    "        np.random.randn(3, 1, 5, 5),\n",
    "        np.random.randn(8, 4, 3, 3),\n",
    "        np.random.randn(4, 3, 3, 3),\n",
    "        np.random.randn(8, 3, 7, 7),\n",
    "        np.random.randn(4, 2, 1, 1),\n",
    "        np.random.randn(4, 3, 3, 3),\n",
    "        np.random.randn(16, 3, 5, 5),\n",
    "    ]\n",
    "    \n",
    "    numpy_times = []\n",
    "    im2col_times = []\n",
    "    size_labels = []\n",
    "    errors = []\n",
    "    \n",
    "    for size, kernel in zip(sizes, kernels):\n",
    "        input_np = np.random.randn(*size)\n",
    "        input_torch = torch.tensor(input_np, dtype=torch.float32)\n",
    "        \n",
    "        start = time.perf_counter()\n",
    "        out_numpy = numpy_conv2d(input_np, kernel, padding=1)\n",
    "        numpy_time = time.perf_counter() - start\n",
    "        \n",
    "        start = time.perf_counter()\n",
    "        out_im2col = conv2d_im2col(input_np, kernel, padding=1)\n",
    "        im2col_time = time.perf_counter() - start\n",
    "        \n",
    "        kernel_torch = torch.tensor(kernel, dtype=torch.float32)\n",
    "        out_torch = F.conv2d(input_torch.unsqueeze(0), kernel_torch, padding=1)\n",
    "        \n",
    "        try:\n",
    "            np.testing.assert_allclose(out_numpy, out_im2col, rtol=1e-03, atol=1e-03)\n",
    "            np.testing.assert_allclose(out_numpy, out_torch.squeeze().numpy(), rtol=1e-03, atol=1e-03)\n",
    "            error = \"OK\"\n",
    "        except AssertionError as e:\n",
    "            error = f\"Ошибка: {str(e).split('\\n')[0]}\"\n",
    "        \n",
    "        numpy_times.append(numpy_time)\n",
    "        im2col_times.append(im2col_time)\n",
    "        size_labels.append(f\"{size[1]}x{size[2]}\")\n",
    "        errors.append(error)\n",
    "        \n",
    "        print(f\"Размер: {size[1]}x{size[2]} | Numpy: {numpy_time:.4f}s | Im2Col: {im2col_time:.4f}s | Проверка: {error}\")\n",
    "    \n",
    "    plt.figure(figsize=(14, 7))\n",
    "    plt.plot(size_labels, numpy_times, 'o-', label='Numpy реализация', linewidth=2, markersize=8)\n",
    "    plt.plot(size_labels, im2col_times, 's-', label='Im2Col реализация', linewidth=2, markersize=8)\n",
    "    \n",
    "    for i, error in enumerate(errors):\n",
    "        if error != \"OK\":\n",
    "            plt.annotate(\n",
    "                        error, \n",
    "                        xy=(i, max(numpy_times[i], im2col_times[i])),\n",
    "                        xytext=(0, 20), \n",
    "                        textcoords='offset points',\n",
    "                        ha='center', \n",
    "                        color='red',\n",
    "                        arrowprops=dict(arrowstyle=\"->\", color='red')\n",
    "                    )\n",
    "    \n",
    "    plt.title('Сравнение производительности методов свертки с проверкой корректности', fontsize=14, pad=20)\n",
    "    plt.xlabel('Размер входного изображения', fontsize=12)\n",
    "    plt.ylabel('Время выполнения (секунды)', fontsize=12)\n",
    "    plt.grid(True)\n",
    "    plt.legend(fontsize=12, loc='upper left')\n",
    "    plt.tight_layout()\n",
    "\n",
    "\n",
    "if __name__ == \"__main__\":\n",
    "    test()"
   ]
  }
 ],
 "metadata": {
  "kernelspec": {
   "display_name": "Python (dv-env)",
   "language": "python",
   "name": "dv-env"
  },
  "language_info": {
   "codemirror_mode": {
    "name": "ipython",
    "version": 3
   },
   "file_extension": ".py",
   "mimetype": "text/x-python",
   "name": "python",
   "nbconvert_exporter": "python",
   "pygments_lexer": "ipython3",
   "version": "3.12.3"
  }
 },
 "nbformat": 4,
 "nbformat_minor": 5
}
